{
 "cells": [
  {
   "cell_type": "code",
   "execution_count": 23,
   "id": "ea2b7c4e",
   "metadata": {},
   "outputs": [
    {
     "name": "stdout",
     "output_type": "stream",
     "text": [
      "Using device: cpu\n"
     ]
    }
   ],
   "source": [
    "import comet_ml\n",
    "# Replace with your actual Comet API key\n",
    "comet_api_key = \"yd6X45GKLWoIKspb4dChTuwOs\"\n",
    "import torch \n",
    "import torch.optim as optim\n",
    "import torch.nn as nn\n",
    "\n",
    "import mitdeeplearning as mdl\n",
    "import numpy as np\n",
    "import time , os , functools\n",
    "from IPython import display\n",
    "from tqdm import tqdm\n",
    "from scipy.io.wavfile import write\n",
    "import sounddevice as sd\n",
    "\n",
    "# Check if GPU is available, otherwise use CPU\n",
    "device = torch.device('cuda' if torch.cuda.is_available() else 'cpu')\n",
    "print(f\"Using device: {device}\")\n",
    "\n"
   ]
  }
 ],
 "metadata": {
  "kernelspec": {
   "display_name": ".venv",
   "language": "python",
   "name": "python3"
  },
  "language_info": {
   "codemirror_mode": {
    "name": "ipython",
    "version": 3
   },
   "file_extension": ".py",
   "mimetype": "text/x-python",
   "name": "python",
   "nbconvert_exporter": "python",
   "pygments_lexer": "ipython3",
   "version": "3.12.10"
  }
 },
 "nbformat": 4,
 "nbformat_minor": 5
}
